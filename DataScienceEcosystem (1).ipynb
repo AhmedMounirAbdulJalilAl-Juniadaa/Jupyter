{
 "cells": [
  {
   "cell_type": "markdown",
   "id": "c52802a0-3b0a-4d8e-8098-afe40168f10e",
   "metadata": {},
   "source": [
    "# **Data Science Tools and Ecosystem**"
   ]
  },
  {
   "cell_type": "markdown",
   "id": "758141e0-3710-4d9a-b253-0ba0c6addb87",
   "metadata": {},
   "source": [
    "_In this notebook, Data Science Tools and Ecosystem are summarized._"
   ]
  },
  {
   "cell_type": "markdown",
   "id": "5356e8c5-aa5d-4433-af61-b6d6fac4ffd0",
   "metadata": {},
   "source": [
    "**Some of the popular languages that Data Scientists use are:**\n",
    "1. Python\n",
    "2. R\n",
    "3. Julia"
   ]
  },
  {
   "cell_type": "markdown",
   "id": "f803c6f7-9b45-4b79-9c35-1e34030b86c8",
   "metadata": {},
   "source": [
    "**Some of the commonly used libraries used by Data Scientists include:**\n",
    "1. ggplot (Data visualization)\n",
    "2. caret (Machine learning)\n",
    "3. dplyr (Data Manipulation)\n"
   ]
  },
  {
   "cell_type": "markdown",
   "id": "874e9fa6-6212-4efe-86ce-86fd4acac1fa",
   "metadata": {},
   "source": [
    "|**Data Science Tools**|**description**|\n",
    "|-------------------|-------------------\n",
    "|MYSQL              |Relational Query Language (SQL) is used to manage and store data\n",
    "|Superset           |It is a web application for data exploration and visualization\n",
    "|ModeIDB            |Model database that stores information about the model"
   ]
  },
  {
   "cell_type": "markdown",
   "id": "64a05e92-bebe-40d3-90bc-3080d8c5980e",
   "metadata": {},
   "source": [
    "### Below are a few examples of evaluating arithmetic expressions in Python\n"
   ]
  },
  {
   "cell_type": "markdown",
   "id": "ba0963c6-3f06-4d1d-8eed-603cab91595d",
   "metadata": {},
   "source": [
    "*his a simple arithmetic expression to mutiply then add integers*"
   ]
  },
  {
   "cell_type": "code",
   "execution_count": 6,
   "id": "0d36b758-69c4-4562-a214-2cfd83306453",
   "metadata": {},
   "outputs": [
    {
     "name": "stdout",
     "output_type": "stream",
     "text": [
      "17\n"
     ]
    }
   ],
   "source": [
    "A=3\n",
    "B=4\n",
    "Result=(A*B)+5\n",
    "print(Result)"
   ]
  },
  {
   "cell_type": "code",
   "execution_count": 16,
   "id": "01e02154-8b85-4755-9188-05b2c2f3a3dd",
   "metadata": {},
   "outputs": [
    {
     "name": "stdout",
     "output_type": "stream",
     "text": [
      "3.3333333333333335\n"
     ]
    }
   ],
   "source": [
    "Minutes=200\n",
    "Result=(Minutes/60)\n",
    "print(Result)"
   ]
  },
  {
   "cell_type": "markdown",
   "id": "3575efa9-0b8a-42e2-a29f-e9edd78563c2",
   "metadata": {},
   "source": [
    "### **Objectives of this course**\n",
    "***Data Science Tools Categories:***\n",
    "\n",
    "* Data management\n",
    "* Data integration and transformation\n",
    "* Data visualization\n",
    "* Model building\n",
    "* Model deployment\n",
    "* Model monitoring and assessment"
   ]
  },
  {
   "cell_type": "markdown",
   "id": "b5f017fe-358f-43b2-8a1a-b2044b1bd28a",
   "metadata": {},
   "source": [
    "## ***Author***\n",
    "*Name: Ahmed Mounir Abdel Jalil Al-Junaid*"
   ]
  },
  {
   "cell_type": "code",
   "execution_count": null,
   "id": "6af719ff-2611-4fb2-bff4-f260fd323205",
   "metadata": {},
   "outputs": [],
   "source": []
  }
 ],
 "metadata": {
  "kernelspec": {
   "display_name": "Python 3 (ipykernel)",
   "language": "python",
   "name": "python3"
  },
  "language_info": {
   "codemirror_mode": {
    "name": "ipython",
    "version": 3
   },
   "file_extension": ".py",
   "mimetype": "text/x-python",
   "name": "python",
   "nbconvert_exporter": "python",
   "pygments_lexer": "ipython3",
   "version": "3.12.7"
  }
 },
 "nbformat": 4,
 "nbformat_minor": 5
}
